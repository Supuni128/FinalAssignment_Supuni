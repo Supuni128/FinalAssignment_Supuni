{
 "cells": [
  {
   "cell_type": "markdown",
   "id": "8d6270a2-5d00-4a29-b35c-3586edda1c07",
   "metadata": {},
   "source": [
    "# Data Science Tools and Ecosystem"
   ]
  },
  {
   "cell_type": "markdown",
   "id": "b1910020-e6f3-4dbf-86ef-43ac11cee7ac",
   "metadata": {},
   "source": [
    "In this notebook, Data Science Tools and Ecosystem are summarized."
   ]
  },
  {
   "cell_type": "markdown",
   "id": "8a67128d-10ef-4e47-91e1-5715718c585c",
   "metadata": {},
   "source": [
    "**Objectives:**\n",
    "- List popular languages for data science.\n",
    "- List popular commonly used libraries used by data scientists.\n",
    "- List development environment open source tools used in data science."
   ]
  },
  {
   "cell_type": "markdown",
   "id": "5b0b3296-7552-4d57-877a-5a134b718169",
   "metadata": {},
   "source": [
    "Some of the popular languages that Data Scientists use are:\n",
    "1. Python\n",
    "2. R\n",
    "3. SQL"
   ]
  },
  {
   "cell_type": "markdown",
   "id": "62d5c34f-d9d6-4128-9bd8-7675a14a9a92",
   "metadata": {},
   "source": [
    "Some of the commonly used libraries used by Data Scientists include:\n",
    "1. Pandas\n",
    "2. NumPy\n",
    "3. Matplotlib\n",
    "4. Seaborn\n",
    "5. Scikit-learn\n",
    "6. Keras\n",
    "7. TensorFlow"
   ]
  },
  {
   "cell_type": "markdown",
   "id": "6c95f668-af2b-4097-a35b-07d9dc1e995c",
   "metadata": {},
   "source": [
    "|Data Science Tools|\n",
    "|-------------------|\n",
    "|Jupyter Notebook|\n",
    "|RStudio|\n",
    "|VS Code|\n"
   ]
  },
  {
   "cell_type": "markdown",
   "id": "bd3f816d-01db-4de9-99e8-618ac4b25eb3",
   "metadata": {},
   "source": [
    "### Below are a few examples of evaluating arithmetic expressions in Python."
   ]
  },
  {
   "cell_type": "code",
   "execution_count": 16,
   "id": "8c04d564-d004-4c84-a1e5-06ceb283e539",
   "metadata": {},
   "outputs": [
    {
     "data": {
      "text/plain": [
       "17"
      ]
     },
     "execution_count": 16,
     "metadata": {},
     "output_type": "execute_result"
    }
   ],
   "source": [
    "# This a simple arithmetic expression to mutiply then add integers.\n",
    "(3*4)+5"
   ]
  },
  {
   "cell_type": "code",
   "execution_count": 18,
   "id": "e2ea365e-2036-4f4c-b5de-aca9e633f07a",
   "metadata": {},
   "outputs": [
    {
     "name": "stdout",
     "output_type": "stream",
     "text": [
      "3.3333333333333335\n"
     ]
    }
   ],
   "source": [
    "# This will convert 200 minutes to hours by diving by 60.\n",
    "hours = 200 / 60\n",
    "print(hours)"
   ]
  },
  {
   "cell_type": "markdown",
   "id": "b8effcbe-94b0-432e-8365-36e62dba3fb3",
   "metadata": {},
   "source": [
    "## Author\n",
    "Supuni Parami Dassanayake"
   ]
  },
  {
   "cell_type": "code",
   "execution_count": null,
   "id": "e952f7ce-0edd-4bf5-aa48-9c35522265c7",
   "metadata": {},
   "outputs": [],
   "source": []
  }
 ],
 "metadata": {
  "kernelspec": {
   "display_name": "Python 3 (ipykernel)",
   "language": "python",
   "name": "python3"
  },
  "language_info": {
   "codemirror_mode": {
    "name": "ipython",
    "version": 3
   },
   "file_extension": ".py",
   "mimetype": "text/x-python",
   "name": "python",
   "nbconvert_exporter": "python",
   "pygments_lexer": "ipython3",
   "version": "3.12.7"
  }
 },
 "nbformat": 4,
 "nbformat_minor": 5
}
